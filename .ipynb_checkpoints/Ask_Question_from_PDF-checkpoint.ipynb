{
 "cells": [
  {
   "cell_type": "markdown",
   "id": "7de629c9-9bf3-45fa-bfdf-aa11d4ae96bb",
   "metadata": {},
   "source": [
    "# Ask Questions From PDF"
   ]
  },
  {
   "cell_type": "markdown",
   "id": "3f53a370-632d-4018-878c-cfb13a3244e2",
   "metadata": {},
   "source": [
    "### Model Used: *llama3.2:1b*"
   ]
  },
  {
   "cell_type": "code",
   "execution_count": null,
   "id": "5a8a9f1b-ad70-45ca-ac1d-8223679fb6f9",
   "metadata": {},
   "outputs": [],
   "source": [
    "# Firstly install these libraries and modules if you don't have them. \n",
    "#!pip install langchain==0.0.234 langchain-core==0.0.15 langchain-community==0.0.7 langchain-ollama==0.0.4 tiktoken==0.3.3 faiss-cpu==1.7.4 python-dotenv==1.0.0 pymupdf==1.23.3"
   ]
  },
  {
   "cell_type": "markdown",
   "id": "e3c77ec7-c899-4c9e-8815-a3046b01dd38",
   "metadata": {},
   "source": [
    "## Import necessary libraries and modules"
   ]
  },
  {
   "cell_type": "code",
   "execution_count": 1,
   "id": "91f91eb9-9bba-441e-b8cd-7bd49b2a2459",
   "metadata": {},
   "outputs": [],
   "source": [
    "import os  # Provides functions for interacting with the operating system, like file handling, environment variables, etc.\n",
    "import warnings  # For warning handling\n",
    "from dotenv import load_dotenv  # To load environment variables from .env file\n",
    "from langchain_community.document_loaders import PyMuPDFLoader  # For loading documents from PDF using PyMuPDF\n",
    "from langchain_text_splitters import RecursiveCharacterTextSplitter  # For splitting documents into chunks\n",
    "import tiktoken  # For tokenization, useful for LLMs\n",
    "from langchain_ollama import OllamaEmbeddings  # For embedding models from Ollama\n",
    "import faiss  # For FAISS-based vector search\n",
    "from langchain_community.vectorstores import FAISS  # For using FAISS as a vector store\n",
    "from langchain_community.docstore.in_memory import InMemoryDocstore  # For in-memory document storage\n",
    "from langchain import hub  # To interact with LangChain's hub\n",
    "from langchain_core.output_parsers import StrOutputParser  # For parsing string outputs from LLMs\n",
    "from langchain_core.runnables import RunnablePassthrough  # For running data through without modification\n",
    "from langchain_core.prompts import ChatPromptTemplate  # For creating chat prompts\n",
    "from langchain_ollama import ChatOllama  # For using Ollama-based chat models"
   ]
  },
  {
   "cell_type": "markdown",
   "id": "2bf41770-dcf7-4731-9420-0436422e8573",
   "metadata": {},
   "source": [
    "## Set up environment and suppress warnings"
   ]
  },
  {
   "cell_type": "code",
   "execution_count": 2,
   "id": "2e555f5e-b9d2-4969-badc-c5c07e98031d",
   "metadata": {},
   "outputs": [
    {
     "data": {
      "text/plain": [
       "True"
      ]
     },
     "execution_count": 2,
     "metadata": {},
     "output_type": "execute_result"
    }
   ],
   "source": [
    "os.environ['KMP_DUPLICATE_LIB_OK'] = 'True'\n",
    "warnings.filterwarnings(\"ignore\")\n",
    "load_dotenv()"
   ]
  },
  {
   "cell_type": "markdown",
   "id": "efd4c178-028c-4fce-8a76-aa76d9e13a9a",
   "metadata": {},
   "source": [
    "## Load PDF documents from the dataset directory"
   ]
  },
  {
   "cell_type": "code",
   "execution_count": 3,
   "id": "5b9ec1cf-005a-4669-a5c6-7f7c932192f3",
   "metadata": {},
   "outputs": [],
   "source": [
    "def load_pdfs(directory):\n",
    "    pdfs = []\n",
    "    for root, _, files in os.walk(directory):\n",
    "        for file in files:\n",
    "            if file.endswith('.pdf'):\n",
    "                pdfs.append(os.path.join(root, file))\n",
    "    return pdfs"
   ]
  },
  {
   "cell_type": "markdown",
   "id": "5f4ad63b-7f1c-434b-8505-ab41a3858a24",
   "metadata": {},
   "source": [
    "## Load all PDFs and extract their pages"
   ]
  },
  {
   "cell_type": "code",
   "execution_count": 4,
   "id": "0faaf964-f23b-44b1-b411-21ebcb8991b5",
   "metadata": {},
   "outputs": [],
   "source": [
    "pdf_paths = load_pdfs('Data')\n",
    "docs = []\n",
    "for pdf_path in pdf_paths:\n",
    "    loader = PyMuPDFLoader(pdf_path)\n",
    "    docs.extend(loader.load())"
   ]
  },
  {
   "cell_type": "markdown",
   "id": "a12680f0-5890-4b78-897b-f59a77d6e23c",
   "metadata": {},
   "source": [
    "## Split the documents into smaller chunks"
   ]
  },
  {
   "cell_type": "code",
   "execution_count": 5,
   "id": "a78bd42e-f97f-40b9-99b9-783a7891f44b",
   "metadata": {},
   "outputs": [],
   "source": [
    "text_splitter = RecursiveCharacterTextSplitter(chunk_size=1000, chunk_overlap=100)\n",
    "chunks = text_splitter.split_documents(docs)"
   ]
  },
  {
   "cell_type": "markdown",
   "id": "f6bbd8a0-3956-41e5-9f69-82b1d990cccb",
   "metadata": {},
   "source": [
    "## Tokenize the content for validation"
   ]
  },
  {
   "cell_type": "code",
   "execution_count": 6,
   "id": "777f216e-2dd8-413e-ad2b-582573429756",
   "metadata": {},
   "outputs": [
    {
     "name": "stdout",
     "output_type": "stream",
     "text": [
      "241 240\n"
     ]
    }
   ],
   "source": [
    "encoding = tiktoken.encoding_for_model(\"gpt-4o-mini\")\n",
    "print(len(encoding.encode(docs[0].page_content)), len(encoding.encode(chunks[0].page_content)))"
   ]
  },
  {
   "cell_type": "markdown",
   "id": "9e324f19-c937-4f66-a9d2-01f613fc78e6",
   "metadata": {},
   "source": [
    "## Generate embeddings and initialize FAISS vector store"
   ]
  },
  {
   "cell_type": "code",
   "execution_count": 7,
   "id": "f4d51c4c-c482-4569-8945-8d33685d8944",
   "metadata": {},
   "outputs": [],
   "source": [
    "embeddings = OllamaEmbeddings(model='nomic-embed-text', base_url=\"http://localhost:11434\")\n",
    "index = faiss.IndexFlatL2(len(embeddings.embed_query(\"example text\")))\n",
    "vector_store = FAISS(\n",
    "    embedding_function=embeddings,\n",
    "    index=index,\n",
    "    docstore=InMemoryDocstore(),\n",
    "    index_to_docstore_id={}\n",
    ")"
   ]
  },
  {
   "cell_type": "markdown",
   "id": "636dba32-bddc-4587-a0b4-0b0c80eb4b8c",
   "metadata": {},
   "source": [
    "## Add documents to the vector store"
   ]
  },
  {
   "cell_type": "code",
   "execution_count": 8,
   "id": "1bb75e5b-250b-4aa6-bca3-744e387958e7",
   "metadata": {},
   "outputs": [],
   "source": [
    "ids = vector_store.add_documents(documents=chunks)"
   ]
  },
  {
   "cell_type": "markdown",
   "id": "ca53e93f-a70a-44f6-89ea-ef60f49e3769",
   "metadata": {},
   "source": [
    "## Retrieve documents using similarity or MMR"
   ]
  },
  {
   "cell_type": "code",
   "execution_count": 9,
   "id": "61f7fd42-5de8-4a75-acf9-fc6eb1d7ce11",
   "metadata": {},
   "outputs": [],
   "source": [
    "retriever = vector_store.as_retriever(search_type=\"mmr\", search_kwargs={\n",
    "    'k': 3,\n",
    "    'fetch_k': 100,\n",
    "    'lambda_mult': 1\n",
    "})"
   ]
  },
  {
   "cell_type": "markdown",
   "id": "a995b933-4672-4518-a8fd-20066e1115d6",
   "metadata": {},
   "source": [
    "## Define a custom RAG pipeline"
   ]
  },
  {
   "cell_type": "code",
   "execution_count": 10,
   "id": "e2a936cb-466e-4622-aa5d-a7d9be0312f9",
   "metadata": {},
   "outputs": [],
   "source": [
    "model = ChatOllama(model=\"llama3.2:1b\", base_url=\"http://localhost:11434\")"
   ]
  },
  {
   "cell_type": "markdown",
   "id": "9c83a198-0d64-4869-881e-a6efbe6152cb",
   "metadata": {},
   "source": [
    "## Define the prompt for RAG-based question answering"
   ]
  },
  {
   "cell_type": "code",
   "execution_count": 11,
   "id": "f7d41243-f105-43b7-8597-361a047b699e",
   "metadata": {},
   "outputs": [],
   "source": [
    "prompt_template = \"\"\"\n",
    "You are a knowledgeable and concise assistant for answering questions. Use the provided context below to answer the question as accurately as possible.\n",
    "- Base your answer strictly on the context given; do not include information from outside the provided context.\n",
    "- If the context does not provide an answer, clearly state that you do not know.\n",
    "Question: {question}\n",
    "Context: {context}\n",
    "Answer:\n",
    "\"\"\"\n",
    "prompt = ChatPromptTemplate.from_template(prompt_template)\n",
    "\n",
    "def format_docs(docs):\n",
    "    return \"\\n\\n\".join([doc.page_content for doc in docs])\n",
    "\n",
    "rag_chain = (\n",
    "    {\"context\": retriever | format_docs, \"question\": RunnablePassthrough()}\n",
    "    | prompt\n",
    "    | model\n",
    "    | StrOutputParser()\n",
    ")"
   ]
  },
  {
   "cell_type": "markdown",
   "id": "6da81bdf-f86b-4081-9643-da15bf29f4e9",
   "metadata": {},
   "source": [
    "# Ask a question and get the output"
   ]
  },
  {
   "cell_type": "code",
   "execution_count": 16,
   "id": "cbb65aeb-b399-4451-baea-3da4cb4151bb",
   "metadata": {},
   "outputs": [
    {
     "name": "stdout",
     "output_type": "stream",
     "text": [
      "Processing...\n",
      "\n",
      "Answer: The price of Web Design is $85.00, with a total due of $93.50 and an additional tax charge of $8.50, making the subtotal $93.50 + $8.50 = $102.00. \n",
      "\n"
     ]
    }
   ],
   "source": [
    "question = \"what is the price of Web Design?\"\n",
    "\n",
    "\n",
    "print(\"Processing...\\n\")\n",
    "output = rag_chain.invoke(question)\n",
    "print(\"Answer:\",output,\"\\n\")"
   ]
  },
  {
   "cell_type": "code",
   "execution_count": 21,
   "id": "6ce093cb-b549-4a7f-94c0-6d8ba3581c9e",
   "metadata": {},
   "outputs": [
    {
     "name": "stdout",
     "output_type": "stream",
     "text": [
      "Processing...\n",
      "\n",
      "Answer: The PDF appears to be an invoice, and the information it contains includes:\n",
      "\n",
      "- Invoice number: INV-3337\n",
      "- Order number: 12345\n",
      "- Invoice date: January 25, 2016\n",
      "- Due date: January 31, 2016\n",
      "- Total due: $93.50 \n",
      "\n"
     ]
    }
   ],
   "source": [
    "question = \"what is in the pdf?\"\n",
    "\n",
    "\n",
    "print(\"Processing...\\n\")\n",
    "output = rag_chain.invoke(question)\n",
    "print(\"Answer:\",output,\"\\n\")"
   ]
  },
  {
   "cell_type": "code",
   "execution_count": 22,
   "id": "31faa320-b7fe-49e5-bd22-62966873aae9",
   "metadata": {},
   "outputs": [
    {
     "name": "stdout",
     "output_type": "stream",
     "text": [
      "Processing...\n",
      "\n",
      "Answer: The Order Number is 12345. \n",
      "\n"
     ]
    }
   ],
   "source": [
    "question = \"what is Order Number?\"\n",
    "\n",
    "\n",
    "print(\"Processing...\\n\")\n",
    "output = rag_chain.invoke(question)\n",
    "print(\"Answer:\",output,\"\\n\")"
   ]
  },
  {
   "cell_type": "code",
   "execution_count": 26,
   "id": "da75099f-b84a-4a72-9b41-28db334e5f71",
   "metadata": {},
   "outputs": [
    {
     "name": "stdout",
     "output_type": "stream",
     "text": [
      "Processing...\n",
      "\n",
      "Answer: The Invoice Number is shown as INV-3337 on the provided invoice. \n",
      "\n"
     ]
    }
   ],
   "source": [
    "question = \"what is Invoice Number?\"\n",
    "\n",
    "\n",
    "print(\"Processing...\\n\")\n",
    "output = rag_chain.invoke(question)\n",
    "print(\"Answer:\",output,\"\\n\")"
   ]
  },
  {
   "cell_type": "code",
   "execution_count": 23,
   "id": "e1c527ad-41de-4fa4-b874-cf89ba9ca037",
   "metadata": {},
   "outputs": [
    {
     "name": "stdout",
     "output_type": "stream",
     "text": [
      "Processing...\n",
      "\n",
      "Answer: The Invoice Date is January 25, 2016. \n",
      "\n"
     ]
    }
   ],
   "source": [
    "question = \"what is Invoice Date?\"\n",
    "\n",
    "\n",
    "print(\"Processing...\\n\")\n",
    "output = rag_chain.invoke(question)\n",
    "print(\"Answer:\",output,\"\\n\")"
   ]
  },
  {
   "cell_type": "code",
   "execution_count": 28,
   "id": "64f76b8b-af60-4298-b476-29861225a9a8",
   "metadata": {},
   "outputs": [
    {
     "name": "stdout",
     "output_type": "stream",
     "text": [
      "Processing...\n",
      "\n",
      "Answer: There is no due amount listed in the provided context. The total due on the invoice is $93.50, but it does not specify a specific payment date or deadline for payment. \n",
      "\n"
     ]
    }
   ],
   "source": [
    "question = \"Is there any due amount there?\"\n",
    "\n",
    "\n",
    "print(\"Processing...\\n\")\n",
    "output = rag_chain.invoke(question)\n",
    "print(\"Answer:\",output,\"\\n\")"
   ]
  },
  {
   "cell_type": "markdown",
   "id": "b679d194-a8ac-497f-8ba3-5deb53d9c145",
   "metadata": {},
   "source": [
    "# *Thank You*"
   ]
  },
  {
   "cell_type": "markdown",
   "id": "f87900ab-f979-4dbc-9c28-7c3fd7952456",
   "metadata": {},
   "source": [
    "### Project by *Sawan Kumar*"
   ]
  }
 ],
 "metadata": {
  "kernelspec": {
   "display_name": "Python 3 (ipykernel)",
   "language": "python",
   "name": "python3"
  },
  "language_info": {
   "codemirror_mode": {
    "name": "ipython",
    "version": 3
   },
   "file_extension": ".py",
   "mimetype": "text/x-python",
   "name": "python",
   "nbconvert_exporter": "python",
   "pygments_lexer": "ipython3",
   "version": "3.12.4"
  }
 },
 "nbformat": 4,
 "nbformat_minor": 5
}
